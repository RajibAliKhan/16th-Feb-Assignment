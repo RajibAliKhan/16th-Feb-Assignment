{
 "cells": [
  {
   "cell_type": "code",
   "execution_count": null,
   "id": "a5982246-3ee5-4389-80e6-f964c04dc977",
   "metadata": {},
   "outputs": [],
   "source": [
    "# Answer of Q1 :"
   ]
  },
  {
   "cell_type": "code",
   "execution_count": null,
   "id": "9726e5d9-db04-4a1f-97e4-2f9ae0d7b36c",
   "metadata": {},
   "outputs": [],
   "source": [
    "Database :\n",
    "    Database basically means collection of information, data.\n",
    "Database is basically two types :\n",
    "    1. SQL (Structured Query Language)\n",
    "    2. NoSQL (Not only Structured Query Language)"
   ]
  },
  {
   "cell_type": "code",
   "execution_count": null,
   "id": "f2914f7d-c928-40d5-bb60-bc285a7f1b71",
   "metadata": {},
   "outputs": [],
   "source": [
    "Difference :\n",
    "    1. SQL databases are table-based, well structered, while NoSQL databases are not structured.\n",
    "    2. SQL example is Excel sheet while example of NoSQL is music, movie, audio file, image, python file etc.\n",
    "    3. SQL is not very useful for big data handling, but NoSQL is useful for big data handling."
   ]
  },
  {
   "cell_type": "code",
   "execution_count": null,
   "id": "1c6a0ef7-9fbd-4d83-85a9-ae3f116361e6",
   "metadata": {},
   "outputs": [],
   "source": [
    "# Answer of Q2 :"
   ]
  },
  {
   "cell_type": "code",
   "execution_count": null,
   "id": "0921826a-8b27-4aff-8fe4-dc714936ee8f",
   "metadata": {},
   "outputs": [],
   "source": [
    "DDL :\n",
    "    DDL means Data Definition Language.\n",
    "    It is a subset of SQL. \n",
    "    It is a language for describing data and its relationships in a database."
   ]
  },
  {
   "cell_type": "code",
   "execution_count": null,
   "id": "0f99a51e-ebc4-4e27-afa9-2c8aef79f17f",
   "metadata": {},
   "outputs": [],
   "source": [
    "Create :\n",
    "    'Create' command is used to create a new database, table.\n",
    "    Best use for Create command is creating a table. \n",
    "    Code : CREATE TABLE [table name] ([column name] [parameter])\n",
    "    \n",
    "Drop :\n",
    "    'Drop' command is used for destroying an existing database, table.\n",
    "    Code : DROP objectpe objectname\n",
    "    \n",
    "Alter :\n",
    "    'Alter' command modifies an existing database object.\n",
    "    Code : ALTER objecttype objectname parameters\n",
    "    \n",
    "Trancate :\n",
    "    'Trancate' is used to delete all data from a table.\n",
    "    Code : TRUNCATE TABLE table_name"
   ]
  },
  {
   "cell_type": "code",
   "execution_count": null,
   "id": "5de296fc-2697-41a1-aad8-c4b24c1d4efe",
   "metadata": {},
   "outputs": [],
   "source": [
    "# Answer of Q3 :"
   ]
  },
  {
   "cell_type": "code",
   "execution_count": null,
   "id": "9c2af966-047e-4e57-9747-0162f3cff4da",
   "metadata": {},
   "outputs": [],
   "source": [
    "DML :\n",
    "    It means Data Manipulation Language.\n",
    "    It is a computer programming language used for adding (inserting), deleting, and modifying (updating) data in a database.  "
   ]
  },
  {
   "cell_type": "code",
   "execution_count": null,
   "id": "3e8dbedc-75f2-4baf-ad00-e8d371245b23",
   "metadata": {},
   "outputs": [],
   "source": [
    "Insert :\n",
    "    'Insert' command used for adding data to a table.\n",
    "    Code : insert into [table name] [values]\n",
    "    \n",
    "Update :\n",
    "   'Update' modifies data from database.\n",
    "    Code : UPDATE [table name] [value] [condition]\n",
    "\n",
    "Delete :\n",
    "    This command removes one or more records from a table according to specified conditions. \n",
    "    Code : DELETE FROM [table name] [condition].\n"
   ]
  },
  {
   "cell_type": "code",
   "execution_count": null,
   "id": "24a6d340-eeb0-42bd-9f88-672c17f68c47",
   "metadata": {},
   "outputs": [],
   "source": [
    "# Answer of Q4 :"
   ]
  },
  {
   "cell_type": "code",
   "execution_count": null,
   "id": "e08f1775-1da7-4332-a980-96187a20b6fa",
   "metadata": {},
   "outputs": [],
   "source": [
    "DQL :\n",
    "    It means Data Query Language.\n",
    "    It is used for performing queries on the data."
   ]
  },
  {
   "cell_type": "code",
   "execution_count": null,
   "id": "6e830d53-3d9a-4b8a-b66a-228474942cd9",
   "metadata": {},
   "outputs": [],
   "source": [
    "SELECT :\n",
    "    'select' statement use for retrieves the particular column form database."
   ]
  },
  {
   "cell_type": "code",
   "execution_count": null,
   "id": "7a6e0778-dd2c-4d87-a664-bb9a69d91764",
   "metadata": {},
   "outputs": [],
   "source": [
    "# Answer of Q5 :"
   ]
  },
  {
   "cell_type": "code",
   "execution_count": null,
   "id": "7463e849-40eb-4748-a2b4-553df56b9022",
   "metadata": {},
   "outputs": [],
   "source": [
    "A primary key generally focuses on the uniqueness of the table. \n",
    "It assures the value in the specific column is unique. \n",
    "A foreign key is generally used to build a relationship between the two tables. \n",
    "The table allows only one primary key.\n",
    "\n",
    "Example :\n",
    "    In a department, every student having their unique ID, that is Primary key.\n",
    "    But there are lot of department in a college and their student_ID, that is foreign key."
   ]
  },
  {
   "cell_type": "code",
   "execution_count": null,
   "id": "a1b4d80a-f3fa-49bf-a5ef-d65f07839537",
   "metadata": {},
   "outputs": [],
   "source": [
    "# Answer of Q6 :"
   ]
  },
  {
   "cell_type": "code",
   "execution_count": null,
   "id": "6a034ff2-b144-4880-99d8-3b38d63844a0",
   "metadata": {},
   "outputs": [],
   "source": [
    "Python code to connect MySQL to python :"
   ]
  },
  {
   "cell_type": "code",
   "execution_count": null,
   "id": "57915a98-2ea4-4ae8-938f-9eb723752d27",
   "metadata": {},
   "outputs": [],
   "source": [
    "import mysql.connector\n",
    "\n",
    "mydb = mysql.connector.connect(\n",
    "     host = 'localhost',\n",
    "     user = 'abc',\n",
    "     password = 'password'\n",
    ")\n",
    "print(mydb)\n",
    "mycursor = mydb.cursor()\n",
    "mycursor.execute(\"STATEMENT\")\n",
    "\n",
    "for x in mycursor :\n",
    "    print(x)"
   ]
  },
  {
   "cell_type": "code",
   "execution_count": null,
   "id": "72e10a16-a405-4767-a23c-1be6c826dacf",
   "metadata": {},
   "outputs": [],
   "source": [
    "Cursor method is used to execute the query and fetch all data from databse.\n",
    "Execute method is used to execute the code."
   ]
  },
  {
   "cell_type": "code",
   "execution_count": null,
   "id": "9a26350a-0bdc-4c53-a1ad-eac8a64bf390",
   "metadata": {},
   "outputs": [],
   "source": [
    "# Answer of Q7 :"
   ]
  },
  {
   "cell_type": "code",
   "execution_count": null,
   "id": "d3c7c4f8-a11d-4ba1-8caa-95a961630346",
   "metadata": {},
   "outputs": [],
   "source": [
    "FROM: The FROM clause are executed first to determine the data of interest.\n",
    "\n",
    "JOIN: If there are any JOIN clauses, they are processed next to combine data from multiple tables based on the specified join conditions.\n",
    "\n",
    "WHERE: The WHERE clause is used to filter the rows based on specific conditions.\n",
    "\n",
    "GROUP BY: The GROUP BY clause is used to group the data based on values in one or more columns.\n",
    "\n",
    "HAVING: The HAVING clause is executed to remove the created grouped data that don’t meet the constraints.\n",
    "\n",
    "SELECT: The SELECT clause is used to specify the columns to be retrieved from the database.\n",
    "\n",
    "DISTINCT: If the DISTINCT keyword is used, it removes duplicate rows from the database.\n",
    "\n",
    "ORDER BY: The ORDER BY clause is used to sort the data based on one or more columns. \n",
    "\n",
    "LIMIT/OFFSET: Finally, the LIMIT and/or OFFSET clauses are executed to keep or skip a specified number of rows."
   ]
  }
 ],
 "metadata": {
  "kernelspec": {
   "display_name": "Python 3 (ipykernel)",
   "language": "python",
   "name": "python3"
  },
  "language_info": {
   "codemirror_mode": {
    "name": "ipython",
    "version": 3
   },
   "file_extension": ".py",
   "mimetype": "text/x-python",
   "name": "python",
   "nbconvert_exporter": "python",
   "pygments_lexer": "ipython3",
   "version": "3.10.8"
  }
 },
 "nbformat": 4,
 "nbformat_minor": 5
}
